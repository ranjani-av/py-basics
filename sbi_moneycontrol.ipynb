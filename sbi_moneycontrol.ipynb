{
  "nbformat": 4,
  "nbformat_minor": 0,
  "metadata": {
    "colab": {
      "name": "sbi_moneycontrol.ipynb",
      "version": "0.3.2",
      "provenance": [],
      "collapsed_sections": [],
      "include_colab_link": true
    },
    "kernelspec": {
      "name": "python3",
      "display_name": "Python 3"
    }
  },
  "cells": [
    {
      "cell_type": "markdown",
      "metadata": {
        "id": "view-in-github",
        "colab_type": "text"
      },
      "source": [
        "<a href=\"https://colab.research.google.com/github/ranjani-av/py-basics/blob/master/sbi_moneycontrol.ipynb\" target=\"_parent\"><img src=\"https://colab.research.google.com/assets/colab-badge.svg\" alt=\"Open In Colab\"/></a>"
      ]
    },
    {
      "cell_type": "code",
      "metadata": {
        "id": "72j8IRKU0FC1",
        "colab_type": "code",
        "outputId": "4c00be3a-ce90-4ecb-93d3-3560fe7334ca",
        "colab": {
          "base_uri": "https://localhost:8080/",
          "height": 68
        }
      },
      "source": [
        "#start 17:34\n",
        "from bs4 import BeautifulSoup  #makes it easy for us to parse our html files we get from our requests\n",
        "from urllib.request import urlopen as uReq\n",
        "import requests\n",
        "\n",
        "\n",
        "my_url = \"https://www.moneycontrol.com/india/stockpricequote/banks-public-sector/statebankindia/SBI\"\n",
        "response = requests.get(my_url)\n",
        "#print(response.text)\n",
        "soup = BeautifulSoup(response.text, 'html.parser')\n",
        "#print(soup.prettify())\n",
        "\n",
        "print(title1)\n",
        "area_scrip=soup.find('div', class_= 'FL gry10')\n",
        "b=area_scrip.text[7:19]\n",
        "n=area_scrip.text[28:37]\n",
        "print(n+\" | \"+b+\" |\")\n",
        "\n",
        "heading = soup.title.text\n",
        "title1 = heading[:20]\n",
        "\n",
        "\"\"\"[<div class=\"FL PR5 gD_30\" id=\"Bse_Prc_tick_div\"><span id=\"Bse_Prc_tick\"><strong>372.15</strong></span></div>,\n",
        "<div class=\"FL PR5 gD_30\" id=\"Nse_Prc_tick_div\"><span class=\"PA2\" id=\"Nse_Prc_tick\"><strong>372.40</strong></span></div>]\n",
        "\"\"\"\n",
        "\n",
        "\n",
        "for area in soup.find_all('div', class_= 'FL PR5 gD_30'):\n",
        "    print(area.text, end=\"    |    \")\n",
        "    \n",
        "\n",
        "#end 18:56    "
      ],
      "execution_count": 0,
      "outputs": [
        {
          "output_type": "stream",
          "text": [
            "State Bank of India \n",
            "NSE: SBIN | BSE: 500112  |\n",
            "372.15    |    372.40    |    "
          ],
          "name": "stdout"
        }
      ]
    }
  ]
}