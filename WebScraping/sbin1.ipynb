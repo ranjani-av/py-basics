{
  "nbformat": 4,
  "nbformat_minor": 0,
  "metadata": {
    "colab": {
      "name": "sbin1.ipynb",
      "version": "0.3.2",
      "provenance": [],
      "collapsed_sections": [],
      "include_colab_link": true
    },
    "kernelspec": {
      "name": "python3",
      "display_name": "Python 3"
    }
  },
  "cells": [
    {
      "cell_type": "markdown",
      "metadata": {
        "id": "view-in-github",
        "colab_type": "text"
      },
      "source": [
        "<a href=\"https://colab.research.google.com/github/ranjani-av/py-basics/blob/master/sbin1.ipynb\" target=\"_parent\"><img src=\"https://colab.research.google.com/assets/colab-badge.svg\" alt=\"Open In Colab\"/></a>"
      ]
    },
    {
      "cell_type": "code",
      "metadata": {
        "id": "b9TE2SMSUR56",
        "colab_type": "code",
        "outputId": "2896674f-e048-45fd-c223-30630c67cfd9",
        "colab": {
          "base_uri": "https://localhost:8080/",
          "height": 51
        }
      },
      "source": [
        "#start 15:14\n",
        "\n",
        "from bs4 import BeautifulSoup  #makes it easy for us to parse our html files we get from our requests\n",
        "from urllib.request import urlopen as uReq\n",
        "import requests\n",
        "\n",
        "my_url_nse = \"https://www.google.com/search?q=sbin+stock+price+nse&oq=sbin+sto&aqs=chrome.0.35i39j69i57j35i39j0l3.4657j1j1&sourceid=chrome&ie=UTF-8\"\n",
        "\n",
        "response_nse = requests.get(my_url_nse)\n",
        "#print(response.text)\n",
        "soup_nse = BeautifulSoup(response_nse.text, 'html.parser')\n",
        "#print(soup_nse.prettify())\n",
        "\n",
        "\n",
        "\n",
        "area_nse=soup_nse.find('div', class_= 'BNeawe iBp4i AP7Wnd')\n",
        "#print(area_nse)\n",
        "\n",
        "heading1 = soup_nse.title.text\n",
        "title1 = heading1[:20]\n",
        "\n",
        "\n",
        "sbin_nse = area_nse.div.text\n",
        "price1 = sbin_nse[:5]\n",
        "#print(title1, \": Rs\", price1)\n",
        "\n",
        "area_nse1=soup_nse.findAll('div', class_= 'BNeawe tAd8D AP7Wnd')\n",
        "#print(area_nse1)\n",
        "#print(len(area_nse1))\n",
        "\n",
        "\n",
        "container=area_nse1[3]\n",
        "#print(container)\n",
        "\n",
        "scripCode_nse=container.text\n",
        "#print(scripCode_nse)\n",
        "\n",
        "\n",
        "'''\n",
        "[<div class=\"BNeawe tAd8D AP7Wnd\">Financial services company</div>,\n",
        "<div class=\"BNeawe tAd8D AP7Wnd\">Trending</div>,\n",
        "<div class=\"BNeawe tAd8D AP7Wnd\"><div>\n",
        "<div class=\"BNeawe tAd8D AP7Wnd\">\n",
        "\t<span class=\"r0bn4c rQMQod\">SBIN(NSE)</span>\n",
        "</div>\n",
        "\n",
        "</div></div>,\n",
        "\n",
        "<div class=\"BNeawe tAd8D AP7Wnd\">\n",
        "\t<span class=\"r0bn4c rQMQod\">SBIN(NSE)</span>\n",
        "</div>]\n",
        "'''\n",
        "\n",
        "'''\n",
        "import csv\n",
        "\n",
        " with open('sbi.csv', 'w', newline= '') as f:\n",
        "\tf_names=['Stock Exchange', 'Scrip Code', 'Share Price']\n",
        "\tthewriter = csv.DictWriter(f, fieldnames=f_names)\n",
        "\n",
        "\tthewriter.writeheader()\n",
        "\tthewriter.writerow({'Stock Exchange': 'NSE', 'Share Price': '373.0', 'Scrip Code': 'SBI'})\n",
        "\tthewriter.writerow({'Stock Exchange': 'BSE', 'Share Price': '372.1', 'Scrip Code': '500112'})\n",
        "f.close()\n",
        "'''\n",
        "\n",
        "print(scripCode_nse, price1)\n",
        "\n",
        "my_url_bse = \"https://www.google.com/search?ei=2eAuXdnrDNXZrQGPoqRQ&q=sbi+share+price+bse&oq=sbi+share+price+bse&gs_l=psy-ab.3..35i39l2j0l3j0i22i10i30j0i22i30l4.42412.42412..44135...0.0..0.418.418.4-1......0....1..gws-wiz.......0i71.M6QAiExtr1w\"\n",
        "response_bse = requests.get(my_url_bse)\n",
        "#print(response.text)\n",
        "soup_bse = BeautifulSoup(response_bse.text, 'html.parser')\n",
        "#print(soup_bse.prettify())\n",
        "\n",
        "\n",
        "\n",
        "area_bse=soup_bse.find('div', class_= 'BNeawe iBp4i AP7Wnd')\n",
        "#print(area_bse)\n",
        "\n",
        "heading2 = soup_bse.title.text\n",
        "title2 = heading2[:20]\n",
        "\n",
        "\n",
        "sbin_bse = area_bse.div.text\n",
        "price2 = sbin_bse[:5]\n",
        "#print(title2, \": Rs\", price1)\n",
        "\n",
        "area_bse1=soup_bse.findAll('div', class_= 'BNeawe tAd8D AP7Wnd')\n",
        "#print(area_bse1)\n",
        "#print(len(area_bse1))\n",
        "\n",
        "\n",
        "container1=area_bse1[3]\n",
        "#print(container1)\n",
        "\n",
        "scripCode_bse=container1.text\n",
        "#print(scripCode_bse)\n",
        "\n",
        "print(scripCode_bse, price2)\n",
        "\n",
        "  \n",
        "  \n",
        "#scrip code, stock price\n",
        "#end 17:11\n"
      ],
      "execution_count": 0,
      "outputs": [
        {
          "output_type": "stream",
          "text": [
            "SBIN(NSE) 373.0\n",
            "500112(BOM) 372.1\n"
          ],
          "name": "stdout"
        }
      ]
    }
  ]
}
