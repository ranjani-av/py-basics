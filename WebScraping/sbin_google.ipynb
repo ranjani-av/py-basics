{
  "nbformat": 4,
  "nbformat_minor": 0,
  "metadata": {
    "colab": {
      "name": "sbin_google.ipynb",
      "version": "0.3.2",
      "provenance": [],
      "include_colab_link": true
    },
    "kernelspec": {
      "name": "python3",
      "display_name": "Python 3"
    }
  },
  "cells": [
    {
      "cell_type": "markdown",
      "metadata": {
        "id": "view-in-github",
        "colab_type": "text"
      },
      "source": [
        "<a href=\"https://colab.research.google.com/github/ranjani-av/py-basics/blob/master/WebScraping/sbin_google.ipynb\" target=\"_parent\"><img src=\"https://colab.research.google.com/assets/colab-badge.svg\" alt=\"Open In Colab\"/></a>"
      ]
    },
    {
      "cell_type": "code",
      "metadata": {
        "id": "LB0ih28UB5GE",
        "colab_type": "code",
        "outputId": "db97f900-5187-4419-83b8-8ea084e03b3d",
        "colab": {
          "base_uri": "https://localhost:8080/",
          "height": 34
        }
      },
      "source": [
        "from bs4 import BeautifulSoup  #makes it easy for us to parse our html files we get from our requests\n",
        "from urllib.request import urlopen as uReq\n",
        "import requests\n",
        "\n",
        "my_url = \"https://www.google.com/search?q=sbin+stock+price+nse&oq=sbin+sto&aqs=chrome.0.35i39j69i57j35i39j0l3.4657j1j1&sourceid=chrome&ie=UTF-8\"\n",
        "\n",
        "response = requests.get(my_url)\n",
        "#print(response.text)\n",
        "soup = BeautifulSoup(response.text, 'html.parser')\n",
        "#print(soup.prettify())\n",
        "\n",
        "\n",
        "\n",
        "area=soup.find('div', class_= 'BNeawe iBp4i AP7Wnd')\n",
        "#print(area)\n",
        "\n",
        "\n",
        "\n",
        "\n",
        "\n",
        "'''\n",
        "<div class=\"BNeawe iBp4i AP7Wnd\">\n",
        " <div>\n",
        "  <div class=\"BNeawe iBp4i AP7Wnd\">\n",
        "   366.90\n",
        "   <span class=\"rQMQod AWuZUe\">+2.55 (0.70%)</span>\n",
        "  </div>\n",
        " </div>\n",
        "</div>'''\n",
        "\n",
        "\n",
        "heading = soup.title.text\n",
        "title1 = heading[:20]\n",
        "\n",
        "\n",
        "sbin = area.div.text\n",
        "price = sbin[:5]\n",
        "\n",
        "print(title1, \": Rs\", price)\n",
        "\n",
        "#(start: 12:30 , result gotten: 13:51)\n",
        "\n",
        "\n"
      ],
      "execution_count": 0,
      "outputs": [
        {
          "output_type": "stream",
          "text": [
            "sbin stock price nse : Rs 373.0\n"
          ],
          "name": "stdout"
        }
      ]
    }
  ]
}