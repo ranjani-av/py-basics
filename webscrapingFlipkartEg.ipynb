{
  "nbformat": 4,
  "nbformat_minor": 0,
  "metadata": {
    "colab": {
      "name": "Untitled1.ipynb",
      "version": "0.3.2",
      "provenance": [],
      "include_colab_link": true
    },
    "kernelspec": {
      "name": "python3",
      "display_name": "Python 3"
    }
  },
  "cells": [
    {
      "cell_type": "markdown",
      "metadata": {
        "id": "view-in-github",
        "colab_type": "text"
      },
      "source": [
        "<a href=\"https://colab.research.google.com/github/ranjani-av/py-basics/blob/master/webscrapingFlipkartEg.ipynb\" target=\"_parent\"><img src=\"https://colab.research.google.com/assets/colab-badge.svg\" alt=\"Open In Colab\"/></a>"
      ]
    },
    {
      "cell_type": "code",
      "metadata": {
        "id": "DlAaVz96hePG",
        "colab_type": "code",
        "colab": {
          "base_uri": "https://localhost:8080/",
          "height": 833
        },
        "outputId": "7fa1988c-3310-4edb-b3d5-0bdc3f058b94"
      },
      "source": [
        "from bs4 import BeautifulSoup as soup\n",
        "from urllib.request import urlopen as uReq\n",
        "\n",
        "my_url=\"https://www.flipkart.com/search?q=iphone&otracker=search&otracker1=search&marketplace=FLIPKART&as-show=on&as=off\"\n",
        "\n",
        "uClient = uReq(my_url)\n",
        "page_html = uClient.read()\n",
        "uClient.close()\n",
        "page_soup = soup(page_html, \"html.parser\")\n",
        "\n",
        "containers = page_soup.findAll(\"div\", {\"class\": \"_3O0U0u\"})\n",
        "#print(len(containers))\n",
        "\n",
        "#print(soup.prettify(containers[0]))\n",
        "\n",
        "container = containers[0]\n",
        "#print(container.div.img[\"alt\"])\n",
        "\n",
        "price=container.findAll(\"div\", {\"class\": \"_1vC4OE _2rQ-NK\"})\n",
        "#print(price[0].text)\n",
        "\n",
        "ratings=container.findAll(\"div\", {\"class\": \"niH0FQ\"})\n",
        "#print(ratings[0].text)\n",
        "\n",
        "filename = \"products.csv\"\n",
        "f = open(filename, \"w\")\n",
        "\n",
        "headers = \"Product_Name,Pricing,Ratings\\n\" #csv files have headers, this is manual\n",
        "f.write(headers)\n",
        "\n",
        "for container in containers:\n",
        "  product_name = container.div.img[\"alt\"]\n",
        "  \n",
        "  price_container = container.findAll(\"div\", {\"class\": \"col col-5-12 _2o7WAb\"})\n",
        "  price = price_container[0].text.strip()\n",
        "  \n",
        "  rating_container = container.findAll(\"div\", {\"class\": \"hGSR34\"})\n",
        "  rating = rating_container[0].text\n",
        "  \n",
        "  #print(\"product_name:\" + product_name)\n",
        "  #print(\"price:\" + price)\n",
        "  #print(\"ratings:\" + rating)\n",
        "  \n",
        "  #string pricing\n",
        "  trim_price = ''.join(price.split(','))\n",
        "  rm_rupee = trim_price.split(\"₹\")\n",
        "  add_rs_price = \"Rs. \" + rm_rupee[1]\n",
        "  split_price = add_rs_price.split('E')\n",
        "  final_price = split_price[0]\n",
        "  \n",
        "  print(product_name.replace(\",\", \"|\") + \",\" + final_price + \",\" + rating + \"\\n\")\n",
        "  f.write(product_name.replace(\",\", \"|\") + \",\" + final_price + \",\" + rating + \"\\n\")\n",
        "  \n",
        "\n",
        "f.close()\n",
        "  "
      ],
      "execution_count": 31,
      "outputs": [
        {
          "output_type": "stream",
          "text": [
            "Apple iPhone X (Space Gray| 64 GB),Rs. 64999,4.6\n",
            "\n",
            "Apple iPhone 6s (Gold| 32 GB),Rs. 29799,4.5\n",
            "\n",
            "Apple iPhone 6s Plus (Space Grey| 32 GB),Rs. 37999,4.5\n",
            "\n",
            "Apple iPhone XR (Black| 128 GB),Rs. 64999,4.6\n",
            "\n",
            "Apple iPhone 6s (Rose Gold| 32 GB),Rs. 29799,4.5\n",
            "\n",
            "Apple iPhone XR (Black| 64 GB),Rs. 59999,4.6\n",
            "\n",
            "Apple iPhone XR (White| 64 GB),Rs. 59999,4.6\n",
            "\n",
            "Apple iPhone 6s (Space Grey| 32 GB),Rs. 29590,4.5\n",
            "\n",
            "Apple iPhone XR (White| 128 GB),Rs. 64999,4.6\n",
            "\n",
            "Apple iPhone X (Silver| 64 GB),Rs. 64999,4.6\n",
            "\n",
            "Apple iPhone XR ((PRODUCT)RED| 64 GB),Rs. 59999,4.6\n",
            "\n",
            "Apple iPhone 6s (Silver| 32 GB),Rs. 29799,4.5\n",
            "\n",
            "Apple iPhone 7 (Silver| 128 GB),Rs. 47999,4.6\n",
            "\n",
            "Apple iPhone 7 (Silver| 32 GB),Rs. 39900,4.5\n",
            "\n",
            "Apple iPhone XR (Coral| 128 GB),Rs. 64999,4.6\n",
            "\n",
            "Apple iPhone 8 Plus (Gold| 64 GB),Rs. 68500,4.6\n",
            "\n",
            "Apple iPhone XR (Blue| 64 GB),Rs. 59999,4.6\n",
            "\n",
            "Apple iPhone 8 (Silver| 64 GB),Rs. 58999,4.6\n",
            "\n",
            "Apple iPhone 6 (Space Grey| 32 GB),Rs. 27699,4.4\n",
            "\n",
            "Apple iPhone 6s Plus (Silver| 16 GB),Rs. 39990,4.3\n",
            "\n",
            "Apple iPhone 8 (Gold| 64 GB),Rs. 58999,4.6\n",
            "\n",
            "Apple iPhone XR (Blue| 128 GB),Rs. 65399,4.6\n",
            "\n",
            "Apple iPhone 8 (Space Grey| 256 GB),Rs. 70990,4.6\n",
            "\n",
            "Apple iPhone 8 (Silver| 256 GB),Rs. 68999,4.6\n",
            "\n"
          ],
          "name": "stdout"
        }
      ]
    }
  ]
}